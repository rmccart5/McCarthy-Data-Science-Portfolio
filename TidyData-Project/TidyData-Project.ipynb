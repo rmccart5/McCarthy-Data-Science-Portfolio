{
 "cells": [
  {
   "cell_type": "markdown",
   "metadata": {},
   "source": [
    "# Tidying the 2008 Olympics Medalists Dataframe!"
   ]
  },
  {
   "cell_type": "markdown",
   "metadata": {},
   "source": [
    "First, I imported the Pandas package, which allows me to use certain functions. Then, I used the read_csv function to import the 2008 Olympics Medalists dataframe, which I then stored as df_medalists."
   ]
  },
  {
   "cell_type": "code",
   "execution_count": 290,
   "metadata": {},
   "outputs": [],
   "source": [
    "# Imports pandas because I needed to use some functions within the pandas library\n",
    "import pandas as pd\n",
    "\n",
    "#Uses the read_csv function in pandas to import the csv, which I then assigned to a variable df_medalist\n",
    "df_medalists = pd.read_csv(\"olympics_08_medalists.csv\")\n"
   ]
  },
  {
   "cell_type": "markdown",
   "metadata": {},
   "source": [
    "This dataframe was super messy so I needed to tidy it up. Tidy datasets have each variable in its own column and each observation in its own row. Tidy datasets are important because they are easy to navigate and understand. Even if you know very little about a topic, a tidy dataset with visualizations and pivot tables makes it easy for anyone to naviaget, no matter their background or expertise."
   ]
  },
  {
   "cell_type": "markdown",
   "metadata": {},
   "source": [
    "I used the melt function which creates a tidy dataset. I then named the new column as \"Competition\", and I assigned the new, melted dataframe to the variable df_medalists_melted."
   ]
  },
  {
   "cell_type": "code",
   "execution_count": 291,
   "metadata": {},
   "outputs": [],
   "source": [
    "#Uses the melt function, which organizes the dataset and gathers columns into rows\n",
    "#df_medalists is the name of the column I wanted to rearrange\n",
    "df_medalists_melted = pd.melt(df_medalists,\n",
    "#medalist_name is the column I was going off of\n",
    "        id_vars=[\"medalist_name\"],\n",
    "#I unpivoted all of the following columns into rows\n",
    "        value_vars = df_medalists.columns[1:],\n",
    "#I named the new column Competition\n",
    "        var_name= \"Competition\")"
   ]
  },
  {
   "cell_type": "markdown",
   "metadata": {},
   "source": [
    "From there, I changed the names of each of the columns to be more organized and easy to understand."
   ]
  },
  {
   "cell_type": "code",
   "execution_count": 292,
   "metadata": {},
   "outputs": [],
   "source": [
    "#Renames the medalist_name column to Medalist Name and the value column to Medal\n",
    "df_medalists_melted = df_medalists_melted.rename(columns = {\n",
    "    \"medalist_name\": \"Medalist Name\",\n",
    "    \"value\": \"Medal\"})"
   ]
  },
  {
   "cell_type": "markdown",
   "metadata": {},
   "source": [
    "Because the Competition column contained both the gender and sport, separated by an underscore, I used the split function to separate it into two columns, one titled Gender and the other titled Competition."
   ]
  },
  {
   "cell_type": "code",
   "execution_count": 293,
   "metadata": {},
   "outputs": [],
   "source": [
    "#Splits the Competition column based on the Underscore\n",
    "split_columns = df_medalists_melted[\"Competition\"].str.split(\"_\", expand=True)\n",
    "#Takes the first part of the split and adds it to the df_medalists_melted dataframe into a column named Gender\n",
    "df_medalists_melted[\"Gender\"] = split_columns[0]\n",
    "#Takes the second part of the split and adds it to the df_medalists_melted dataframe into a column named Competition\n",
    "df_medalists_melted[\"Competition\"] = split_columns[1]\n"
   ]
  },
  {
   "cell_type": "markdown",
   "metadata": {},
   "source": [
    "From there, because the Gender column was all the way to the right, I thought it would make more sense to have the Gender column right after the Medalist Name, so I rearranged the order of the columns."
   ]
  },
  {
   "cell_type": "code",
   "execution_count": 294,
   "metadata": {},
   "outputs": [],
   "source": [
    "#Rearranges the columns so that Gender comes between Medalist Name and Competition\n",
    "df_medalists_melted = df_medalists_melted[[\"Medalist Name\", \"Gender\", \"Competition\", \"Medal\"]]"
   ]
  },
  {
   "cell_type": "markdown",
   "metadata": {},
   "source": [
    "I didn't like how the Medal column had NaN, so I used the replace function to have the blank values say None instead. Additionally, this would allow me to remove those observations from the dataframe."
   ]
  },
  {
   "cell_type": "code",
   "execution_count": 295,
   "metadata": {},
   "outputs": [],
   "source": [
    "#Turns all of the blank (NaN) columns into strings and then replaces them with None\n",
    "df_medalists_melted[\"Medal\"] = df_medalists_melted[\"Medal\"].astype(str).str.replace(\"nan\", \"None\")"
   ]
  },
  {
   "cell_type": "markdown",
   "metadata": {},
   "source": [
    "I didn't think it made sense to have observations for people who didn't receive Medals in that competition in the Dataframe, so I removed them by only keeping the rows . That way, users are only looking at Medalists who won medals in their respective competitions."
   ]
  },
  {
   "cell_type": "code",
   "execution_count": 296,
   "metadata": {},
   "outputs": [],
   "source": [
    "#Only keeps the rows that have values other than None in the Medal column\n",
    "df_medalists_melted = df_medalists_melted[df_medalists_melted[\"Medal\"] != \"None\"]"
   ]
  },
  {
   "cell_type": "markdown",
   "metadata": {},
   "source": [
    "Because I removed many rows, the updated dataframe had an index that didn't correspond to the row number. I wanted to have the index show which row it was so I used the reset_index function to do so."
   ]
  },
  {
   "cell_type": "code",
   "execution_count": 297,
   "metadata": {},
   "outputs": [],
   "source": [
    "#Resets the index due to the updated number of rows\n",
    "df_medalists_melted = df_medalists_melted.reset_index()"
   ]
  },
  {
   "cell_type": "markdown",
   "metadata": {},
   "source": [
    "When I reset the index, it added a new column titled \"index\" that I didn't want in the dataframe, so I removed it using the drop function."
   ]
  },
  {
   "cell_type": "code",
   "execution_count": 298,
   "metadata": {},
   "outputs": [],
   "source": [
    "#Removes the index column that was created when I reset the index\n",
    "df_medalists_melted = df_medalists_melted.drop(columns=[\"index\"])"
   ]
  },
  {
   "cell_type": "markdown",
   "metadata": {},
   "source": [
    "Now, I felt great about how neat the new, tidy dataframe looked. I displayed the entire dataset, and then displayed the dimensions of it."
   ]
  },
  {
   "cell_type": "code",
   "execution_count": 299,
   "metadata": {},
   "outputs": [
    {
     "data": {
      "text/html": [
       "<div>\n",
       "<style scoped>\n",
       "    .dataframe tbody tr th:only-of-type {\n",
       "        vertical-align: middle;\n",
       "    }\n",
       "\n",
       "    .dataframe tbody tr th {\n",
       "        vertical-align: top;\n",
       "    }\n",
       "\n",
       "    .dataframe thead th {\n",
       "        text-align: right;\n",
       "    }\n",
       "</style>\n",
       "<table border=\"1\" class=\"dataframe\">\n",
       "  <thead>\n",
       "    <tr style=\"text-align: right;\">\n",
       "      <th></th>\n",
       "      <th>Medalist Name</th>\n",
       "      <th>Gender</th>\n",
       "      <th>Competition</th>\n",
       "      <th>Medal</th>\n",
       "    </tr>\n",
       "  </thead>\n",
       "  <tbody>\n",
       "    <tr>\n",
       "      <th>0</th>\n",
       "      <td>Bair Badënov</td>\n",
       "      <td>male</td>\n",
       "      <td>archery</td>\n",
       "      <td>bronze</td>\n",
       "    </tr>\n",
       "    <tr>\n",
       "      <th>1</th>\n",
       "      <td>Ilario Di Buò</td>\n",
       "      <td>male</td>\n",
       "      <td>archery</td>\n",
       "      <td>silver</td>\n",
       "    </tr>\n",
       "    <tr>\n",
       "      <th>2</th>\n",
       "      <td>Im Dong-hyun</td>\n",
       "      <td>male</td>\n",
       "      <td>archery</td>\n",
       "      <td>gold</td>\n",
       "    </tr>\n",
       "    <tr>\n",
       "      <th>3</th>\n",
       "      <td>Jiang Lin</td>\n",
       "      <td>male</td>\n",
       "      <td>archery</td>\n",
       "      <td>bronze</td>\n",
       "    </tr>\n",
       "    <tr>\n",
       "      <th>4</th>\n",
       "      <td>Lee Chang-hwan</td>\n",
       "      <td>male</td>\n",
       "      <td>archery</td>\n",
       "      <td>gold</td>\n",
       "    </tr>\n",
       "    <tr>\n",
       "      <th>...</th>\n",
       "      <td>...</td>\n",
       "      <td>...</td>\n",
       "      <td>...</td>\n",
       "      <td>...</td>\n",
       "    </tr>\n",
       "    <tr>\n",
       "      <th>1870</th>\n",
       "      <td>Steeve Guénot</td>\n",
       "      <td>male</td>\n",
       "      <td>greco-roman wrestling</td>\n",
       "      <td>gold</td>\n",
       "    </tr>\n",
       "    <tr>\n",
       "      <th>1871</th>\n",
       "      <td>Yannick Szczepaniak</td>\n",
       "      <td>male</td>\n",
       "      <td>greco-roman wrestling</td>\n",
       "      <td>bronze</td>\n",
       "    </tr>\n",
       "    <tr>\n",
       "      <th>1872</th>\n",
       "      <td>Yavor Yanakiev</td>\n",
       "      <td>male</td>\n",
       "      <td>greco-roman wrestling</td>\n",
       "      <td>bronze</td>\n",
       "    </tr>\n",
       "    <tr>\n",
       "      <th>1873</th>\n",
       "      <td>Yury Patrikeyev</td>\n",
       "      <td>male</td>\n",
       "      <td>greco-roman wrestling</td>\n",
       "      <td>bronze</td>\n",
       "    </tr>\n",
       "    <tr>\n",
       "      <th>1874</th>\n",
       "      <td>Zoltán Fodor</td>\n",
       "      <td>male</td>\n",
       "      <td>greco-roman wrestling</td>\n",
       "      <td>silver</td>\n",
       "    </tr>\n",
       "  </tbody>\n",
       "</table>\n",
       "<p>1875 rows × 4 columns</p>\n",
       "</div>"
      ],
      "text/plain": [
       "            Medalist Name Gender            Competition   Medal\n",
       "0            Bair Badënov   male                archery  bronze\n",
       "1           Ilario Di Buò   male                archery  silver\n",
       "2            Im Dong-hyun   male                archery    gold\n",
       "3               Jiang Lin   male                archery  bronze\n",
       "4          Lee Chang-hwan   male                archery    gold\n",
       "...                   ...    ...                    ...     ...\n",
       "1870        Steeve Guénot   male  greco-roman wrestling    gold\n",
       "1871  Yannick Szczepaniak   male  greco-roman wrestling  bronze\n",
       "1872       Yavor Yanakiev   male  greco-roman wrestling  bronze\n",
       "1873      Yury Patrikeyev   male  greco-roman wrestling  bronze\n",
       "1874         Zoltán Fodor   male  greco-roman wrestling  silver\n",
       "\n",
       "[1875 rows x 4 columns]"
      ]
     },
     "metadata": {},
     "output_type": "display_data"
    },
    {
     "data": {
      "text/plain": [
       "(1875, 4)"
      ]
     },
     "metadata": {},
     "output_type": "display_data"
    }
   ],
   "source": [
    "#Dispays the tidy dataset\n",
    "display(df_medalists_melted)\n",
    "\n",
    "#Displays the dimensions of the final dataset\n",
    "display(df_medalists_melted.shape)"
   ]
  },
  {
   "cell_type": "markdown",
   "metadata": {},
   "source": [
    "Now that the dataset is finished and tidy, I created a pivot table that shows how many unique medalists there were for each type of medal, based on their gender."
   ]
  },
  {
   "cell_type": "code",
   "execution_count": 300,
   "metadata": {},
   "outputs": [
    {
     "data": {
      "text/html": [
       "<div>\n",
       "<style scoped>\n",
       "    .dataframe tbody tr th:only-of-type {\n",
       "        vertical-align: middle;\n",
       "    }\n",
       "\n",
       "    .dataframe tbody tr th {\n",
       "        vertical-align: top;\n",
       "    }\n",
       "\n",
       "    .dataframe thead th {\n",
       "        text-align: right;\n",
       "    }\n",
       "</style>\n",
       "<table border=\"1\" class=\"dataframe\">\n",
       "  <thead>\n",
       "    <tr style=\"text-align: right;\">\n",
       "      <th>Gender</th>\n",
       "      <th>female</th>\n",
       "      <th>male</th>\n",
       "    </tr>\n",
       "    <tr>\n",
       "      <th>Medal</th>\n",
       "      <th></th>\n",
       "      <th></th>\n",
       "    </tr>\n",
       "  </thead>\n",
       "  <tbody>\n",
       "    <tr>\n",
       "      <th>bronze</th>\n",
       "      <td>294</td>\n",
       "      <td>374</td>\n",
       "    </tr>\n",
       "    <tr>\n",
       "      <th>gold</th>\n",
       "      <td>271</td>\n",
       "      <td>315</td>\n",
       "    </tr>\n",
       "    <tr>\n",
       "      <th>silver</th>\n",
       "      <td>278</td>\n",
       "      <td>343</td>\n",
       "    </tr>\n",
       "  </tbody>\n",
       "</table>\n",
       "</div>"
      ],
      "text/plain": [
       "Gender  female  male\n",
       "Medal               \n",
       "bronze     294   374\n",
       "gold       271   315\n",
       "silver     278   343"
      ]
     },
     "metadata": {},
     "output_type": "display_data"
    }
   ],
   "source": [
    "#Creates pivot table from the dataframe, showing the number of unique values of medalist names, organized by medal and gender\n",
    "#Uses the df_medalists_melted dataframe\n",
    "medalists_by_medal = pd.pivot_table(df_medalists_melted,\n",
    "#Groups by the type of medal for the index\n",
    "               index=\"Medal\",\n",
    "#Organizes by the gender for the headings\n",
    "               columns = \"Gender\",\n",
    "#The column that is being aggregated is Medalist Name\n",
    "               values = \"Medalist Name\",\n",
    "#Counts the number of unique values\n",
    "               aggfunc= \"nunique\")\n",
    "\n",
    "#Displays the pivot table\n",
    "display(medalists_by_medal)"
   ]
  },
  {
   "cell_type": "markdown",
   "metadata": {},
   "source": [
    "Data visualization is important because it makes the data even easier to understand. It allows a user to briefly look at it and understand what the data is portraying. Rather than having to go through a dataframe line-by-line and thinking about what the data is saying, a visualization makes the data easy to understand right away, allowing the user to form takeaways."
   ]
  },
  {
   "cell_type": "markdown",
   "metadata": {},
   "source": [
    "Now, I created a visualization. Using matplotlib, I created a bar chart to look at how many times each type of medal was won at the Olympics."
   ]
  },
  {
   "cell_type": "code",
   "execution_count": 301,
   "metadata": {},
   "outputs": [
    {
     "data": {
      "image/png": "[encoded data removed]",
      "text/plain": [
       "<Figure size 640x480 with 1 Axes>"
      ]
     },
     "metadata": {},
     "output_type": "display_data"
    }
   ],
   "source": [
    "#Imports matplotlib which is used to create visualizations\n",
    "import matplotlib.pyplot as plt\n",
    "\n",
    "#Creates a new variable that contains each type of medal and how many times it occurred\n",
    "medal_frequencies = df_medalists_melted[\"Medal\"].value_counts()\n",
    "\n",
    "#Creates a bar chart with type of medal on the x-axis and frequency on the y-axis\n",
    "plt.bar(medal_frequencies.index, medal_frequencies.values)\n",
    "\n",
    "#Creates an x-axis label\n",
    "plt.xlabel(\"Type of Medal Won\")\n",
    "\n",
    "#Creates a y-axis label\n",
    "plt.ylabel(\"Number of Medals\")\n",
    "\n",
    "#Creates a title for the bar chart\n",
    "plt.title(\"Number of 2008 Olympics Medalists by Medal Won\")\n",
    "\n",
    "#Displays the bar chart\n",
    "plt.show()\n"
   ]
  },
  {
   "cell_type": "markdown",
   "metadata": {},
   "source": [
    "The above visualization makes it easy for a user to quickly glance at the data and see how out of the 2008 Olympic medalists, the most frequent medal won was the bronze medal and the least was the gold medal."
   ]
  },
  {
   "cell_type": "markdown",
   "metadata": {},
   "source": [
    "Finally, I created a bar chart that shows the number of medalists by their gender."
   ]
  },
  {
   "cell_type": "code",
   "execution_count": 302,
   "metadata": {},
   "outputs": [
    {
     "data": {
      "image/png": "[encoded data removed]",
      "text/plain": [
       "<Figure size 640x480 with 1 Axes>"
      ]
     },
     "metadata": {},
     "output_type": "display_data"
    }
   ],
   "source": [
    "#Creates a new variable that contains each gender and how many times it shows up in the column\n",
    "gender_frequencies = df_medalists_melted[\"Gender\"].value_counts()\n",
    "\n",
    "#Creates a bar chart with type of gender on the x-axis and frequency on the y-axis\n",
    "plt.bar(gender_frequencies.index, gender_frequencies.values)\n",
    "\n",
    "#Creates an x-axis label\n",
    "plt.xlabel(\"Gender\")\n",
    "\n",
    "#Creates a y-axis label\n",
    "plt.ylabel(\"Number of Medalists\")\n",
    "\n",
    "#Creates a title for the bar chart\n",
    "plt.title(\"Number of 2008 Olympic Medalists by Gender\")\n",
    "\n",
    "#Displays the bar chart\n",
    "plt.show()"
   ]
  },
  {
   "cell_type": "markdown",
   "metadata": {},
   "source": [
    "By looking at the visualization above, a user can easily understand how in the 2008 Olympics, more medals were won by men than women. "
   ]
  },
  {
   "cell_type": "markdown",
   "metadata": {},
   "source": [
    "In conclusion, by taking an untidy dataset and applying code to tidy it up and visualize it, the data is so much easier to understand and form conclusions on. Neat, right?"
   ]
  }
 ],
 "metadata": {
  "kernelspec": {
   "display_name": "base",
   "language": "python",
   "name": "python3"
  },
  "language_info": {
   "codemirror_mode": {
    "name": "ipython",
    "version": 3
   },
   "file_extension": ".py",
   "mimetype": "text/x-python",
   "name": "python",
   "nbconvert_exporter": "python",
   "pygments_lexer": "ipython3",
   "version": "3.12.7"
  }
 },
 "nbformat": 4,
 "nbformat_minor": 2
}
