{
  "nbformat": 4,
  "nbformat_minor": 0,
  "metadata": {
    "colab": {
      "provenance": []
    },
    "kernelspec": {
      "name": "python3",
      "display_name": "Python 3"
    },
    "language_info": {
      "name": "python"
    }
  },
  "cells": [
    {
      "cell_type": "markdown",
      "source": [
        "# Introduction to Testing in Python\n",
        "\n",
        "## Why Test Code?\n",
        "- Testing ensures your code behaves as expected.\n",
        "- It helps you catch errors early, saving time in debugging.\n",
        "- Good testing improves code quality and makes collaboration easier.\n",
        "\n",
        "## Types of Tests\n",
        "- **Unit Tests**: Test individual functions or methods.\n",
        "- **Integration Tests**: Test how components work together.\n",
        "- **End-to-End Tests**: Simulate user interactions in a full application.\n",
        "\n",
        "## What Will You Learn Today?\n",
        "1. How to write and run tests using Python’s `pytest`.\n",
        "2. How to handle edge cases through testing.\n",
        "3. How to collaborate to design and implement new tests.\n",
        "\n",
        "Let's start by writing a small program and testing it."
      ],
      "metadata": {
        "id": "RdoTAcVjo1Jo"
      }
    },
    {
      "cell_type": "code",
      "source": [
        "# Starter Code: DataAnalyzer Class\n",
        "import statistics\n",
        "\n",
        "class DataAnalyzer:\n",
        "    def __init__(self, data):\n",
        "        \"\"\"\n",
        "        Initializes the DataAnalyzer with a list of numeric values.\n",
        "        \"\"\"\n",
        "        self.data = data\n",
        "\n",
        "    def mean(self):\n",
        "        \"\"\"Calculates the mean of the numeric data.\"\"\"\n",
        "        return statistics.mean(self.data)\n"
      ],
      "metadata": {
        "id": "1EA-VLIHo-d8"
      },
      "execution_count": 2,
      "outputs": []
    },
    {
      "cell_type": "code",
      "source": [
        "first_class = DataAnalyzer([4,5,6])\n",
        "first_class.mean()"
      ],
      "metadata": {
        "colab": {
          "base_uri": "https://localhost:8080/"
        },
        "id": "ZKlwA1AerNu7",
        "outputId": "20d4edc7-2b81-4420-a8ff-c040584c5088"
      },
      "execution_count": 7,
      "outputs": [
        {
          "output_type": "execute_result",
          "data": {
            "text/plain": [
              "5"
            ]
          },
          "metadata": {},
          "execution_count": 7
        }
      ]
    },
    {
      "cell_type": "markdown",
      "source": [
        "## Writing Your First Test\n",
        "\n",
        "Testing in Python often uses the `pytest` library. Let's write our first test for the `mean` method in the `DataAnalyzer` class.\n",
        "\n",
        "- **Arrange**: Set up the input data.\n",
        "- **Act**: Call the function you want to test.\n",
        "- **Assert**: Verify that the result matches your expectations."
      ],
      "metadata": {
        "id": "hFz9OjkfpE5a"
      }
    },
    {
      "cell_type": "code",
      "source": [
        "# First Test: test_mean\n",
        "def test_mean(data_list, mean_value):\n",
        "    \"\"\"\n",
        "    Tests the mean function of DataAnalyzer with a list of numbers\n",
        "    \"\"\"\n",
        "    analyzer = DataAnalyzer(data_list)\n",
        "    assert analyzer.mean() == mean_value"
      ],
      "metadata": {
        "id": "BS9Gzxv6pDje"
      },
      "execution_count": 13,
      "outputs": []
    },
    {
      "cell_type": "code",
      "source": [
        "# Run the test\n",
        "# try-except\n",
        "try:\n",
        "  test_mean([25,50,75], 50)\n",
        "  print(\"test_mean passed!\")\n",
        "except AssertionError:\n",
        "  print(\"test_mean failed!\")"
      ],
      "metadata": {
        "colab": {
          "base_uri": "https://localhost:8080/"
        },
        "id": "FPIyDQ6RpK_B",
        "outputId": "b7dbeda9-3330-45f9-d9ab-88f982dfe0a9"
      },
      "execution_count": 16,
      "outputs": [
        {
          "output_type": "stream",
          "name": "stdout",
          "text": [
            "test_mean passed!\n"
          ]
        }
      ]
    },
    {
      "cell_type": "markdown",
      "source": [
        "## Adding `median` and `mode` Methods\n",
        "\n",
        "Now, let's extend the `DataAnalyzer` class by adding a method to calculate the median.\n",
        "Afterward, we will write a new test for this method."
      ],
      "metadata": {
        "id": "96YeUygspXc_"
      }
    },
    {
      "cell_type": "code",
      "source": [
        "# Modify DataAnalyzer: Add median method\n",
        "class DataAnalyzer:\n",
        "    def __init__(self, data):\n",
        "        self.data = data\n",
        "\n",
        "    def mean(self):\n",
        "       \"\"\"Calculates the mean of the numeric data.\"\"\"\n",
        "       return statistics.mean(self.data)\n",
        "\n",
        "    def median(self):\n",
        "        \"\"\"Calculates the median of the numeric data.\"\"\"\n",
        "        return statistics.median(self.data)\n",
        "\n",
        "\n",
        "    def mode(self):\n",
        "        \"\"\"Calculates the median of the numeric data.\"\"\"\n",
        "        return statistics.mode(self.data)\n",
        "\n",
        "\n",
        "# Create test function for median\n",
        "def test_median(data_list, median_value):\n",
        "    \"\"\"\n",
        "    Tests the median function of DataAnalyzer with a list of numbers\n",
        "    \"\"\"\n",
        "    analyzer = DataAnalyzer(data_list)\n",
        "    assert analyzer.median() == median_value\n",
        "\n",
        "# Create test function for mode\n",
        "def test_mode(data_list, mode_value):\n",
        "  \"\"\"Tests the mode function of DataAnalyzer with a list of numbers\"\"\"\n",
        "  analyzer = DataAnalyzer(data_list)\n",
        "  assert analyzer.mode() == mode_value\n",
        "\n",
        "\n",
        "# Run test functions\n",
        "try:\n",
        "  test_median([25,26,87], 26)\n",
        "  print(\"test_median passed!\")\n",
        "except AssertionError:\n",
        "  print(\"test_median failed!\")\n",
        "\n",
        "try:\n",
        "  test_mode([10, 10, 37, 50,75], 10)\n",
        "  print(\"test_mode passed!\")\n",
        "except AssertionError:\n",
        "  print(\"test_mode failed!\")"
      ],
      "metadata": {
        "id": "ufJqQm7ppaWo",
        "colab": {
          "base_uri": "https://localhost:8080/"
        },
        "outputId": "429744dc-a73f-4dd1-dfcf-ebb62ae342a7"
      },
      "execution_count": 23,
      "outputs": [
        {
          "output_type": "stream",
          "name": "stdout",
          "text": [
            "test_median passed!\n",
            "test_mode passed!\n"
          ]
        }
      ]
    },
    {
      "cell_type": "markdown",
      "source": [
        "## Investigating Edge Cases\n",
        "\n",
        "What happens if:\n",
        "1. The list of numbers is empty?\n",
        "2. The list contains non-numeric data?\n",
        "\n",
        "Let's write two new test functions to handle these scenarios:\n",
        "- **test_empty_list**\n",
        "- **test_non_numeric_data**"
      ],
      "metadata": {
        "id": "HO7wAQRMsZMy"
      }
    },
    {
      "cell_type": "code",
      "source": [
        "empty_list = []\n",
        "DataAnalyzer(empty_list).mean() # Trying to run an empty list leads to a StatisticsError"
      ],
      "metadata": {
        "id": "PmlAAe3N9cdk"
      },
      "execution_count": null,
      "outputs": []
    },
    {
      "cell_type": "code",
      "source": [
        "non_num_list = [\"a\", \"b\", \"c\"]\n",
        "DataAnalyzer(non_num_list).mean() # Trying to run an empty list leads to a TypeError"
      ],
      "metadata": {
        "id": "TiHrGzMf9rAK"
      },
      "execution_count": null,
      "outputs": []
    },
    {
      "cell_type": "markdown",
      "source": [
        "#### `test_empty_list`\n",
        "- **Purpose**: Ensures the `mean` method raises an error when called with an empty list.\n",
        "- **Key Points**:\n",
        "  - An empty list cannot have a mean, so the method should raise an error.\n",
        "  - Uses `pytest.raises` to check for `statistics.StatisticsError`."
      ],
      "metadata": {
        "id": "_Aew4Wgg2dih"
      }
    },
    {
      "cell_type": "code",
      "execution_count": 28,
      "metadata": {
        "id": "CJ4SgG-Mc4nH",
        "colab": {
          "base_uri": "https://localhost:8080/"
        },
        "outputId": "14c17dd7-54be-4321-f8fe-03dc8fd99f4d"
      },
      "outputs": [
        {
          "output_type": "stream",
          "name": "stdout",
          "text": [
            "test_empty_list passed!\n"
          ]
        }
      ],
      "source": [
        "import pytest\n",
        "\n",
        "def test_empty_list(data):\n",
        "  analyzer = DataAnalyzer(data)\n",
        "  with pytest.raises(statistics.StatisticsError):\n",
        "      analyzer.mean()\n",
        "\n",
        "try:\n",
        "  test_empty_list([])\n",
        "  print(\"test_empty_list passed!\")\n",
        "except AssertionError:\n",
        "  print(\"test_empty_list failed!\")\n"
      ]
    },
    {
      "cell_type": "markdown",
      "source": [
        "#### `test_non_numeric_data`\n",
        "- **Purpose**: Verifies that the `mean` method raises a `TypeError` when non-numeric data is provided.\n",
        "- **Key Points**:\n",
        "  - The `sum` function cannot handle non-numeric values.\n",
        "  - This test ensures invalid input is handled explicitly."
      ],
      "metadata": {
        "id": "wboyIUd-2xpi"
      }
    },
    {
      "cell_type": "code",
      "source": [
        "def test_non_numeric_data(data):\n",
        "  analyzer = DataAnalyzer(data)\n",
        "  with pytest.raises(TypeError):\n",
        "    analyzer.mean()\n",
        "\n",
        "try:\n",
        "  test_non_numeric_data([\"a\",\"b\",\"c\"])\n",
        "  print(\"test_non_numeric_data passed!\")\n",
        "except AssertionError:\n",
        "  print(\"test_non_numeric_data failed!\")"
      ],
      "metadata": {
        "id": "dV_fR92H2yb6",
        "colab": {
          "base_uri": "https://localhost:8080/"
        },
        "outputId": "09dcd35b-8006-4ce1-bbdd-2031da14f6ef"
      },
      "execution_count": 32,
      "outputs": [
        {
          "output_type": "stream",
          "name": "stdout",
          "text": [
            "test_non_numeric_data passed!\n"
          ]
        }
      ]
    },
    {
      "cell_type": "markdown",
      "source": [
        "## Final Challenge Instructions: Rewriting the DataAnalyzer Class\n",
        "For the final challenge, you will modify the `DataAnalyzer` class to calculate the mean, median, and mode manually without using any functions from the statistics library.\n",
        "\n",
        "**Instructions**\n",
        "1. Re-Write the `mean` Method\n",
        "    * Manually calculate the mean using a `for loop` to sum the values in the list.\n",
        "    * Avoid using the `sum` function.\n",
        "    * Round to 1 decimal\n",
        "\n",
        "2. Re-Write the median Method\n",
        "    * Manually calculate the median by:\n",
        "        * Sorting the list.\n",
        "        * Finding the middle value if the list has an odd number of elements.\n",
        "        * Averaging the two middle values if the list has an even number of elements.\n",
        "\n",
        "3. Re-Write the mode Method\n",
        "    * Manually calculate the mode by:\n",
        "        * Counting the frequency of each number in the list using a dictionary.\n",
        "        * Identifying the number with the highest frequency.\n",
        "\n",
        "4. Test Your Implementation\n",
        "    * Use the provided test functions (test_mean, test_median, test_mode) to verify your manual implementations work correctly.\n",
        "    * Run your tests using pytest or manually in the notebook."
      ],
      "metadata": {
        "id": "5iB8Mz2i3Dp_"
      }
    },
    {
      "cell_type": "code",
      "source": [
        "class DataAnalyzer:\n",
        "    def __init__(self, data):\n",
        "        \"\"\"\n",
        "        Initializes the DataAnalyzer with a list of numeric values.\n",
        "        \"\"\"\n",
        "\n",
        "\n",
        "    def mean(self):\n",
        "        \"\"\"Manually calculates the mean of the numeric data.\"\"\"\n",
        "\n",
        "\n",
        "    def median(self):\n",
        "        \"\"\"Manually calculates the median of the numeric data.\"\"\"\n",
        "\n",
        "\n",
        "    def mode(self):\n",
        "        \"\"\"Manually calculates the mode of the numeric data.\"\"\"\n",
        "\n"
      ],
      "metadata": {
        "id": "_J-NcaPpFsi5"
      },
      "execution_count": null,
      "outputs": []
    },
    {
      "cell_type": "code",
      "source": [
        "# First Test: test_mean\n",
        "def test_mean(data_list, mean_value):\n",
        "\n",
        "\n",
        "# Create test function for median\n",
        "def test_median(data_list, median_value):\n",
        "\n",
        "\n",
        "# Create test function for mode\n",
        "def test_mode(data_list, mode_value):\n",
        "\n",
        "\n",
        "# Run test functions\n"
      ],
      "metadata": {
        "id": "HCIZsAh532ls"
      },
      "execution_count": null,
      "outputs": []
    }
  ]
}